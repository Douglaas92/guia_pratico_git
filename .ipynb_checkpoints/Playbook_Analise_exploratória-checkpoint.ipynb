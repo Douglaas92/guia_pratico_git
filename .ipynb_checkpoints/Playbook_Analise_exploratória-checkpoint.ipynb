{
 "cells": [
  {
   "cell_type": "markdown",
   "metadata": {
    "id": "At9UoWJFftQd"
   },
   "source": [
    "#1.Analise Exploratória"
   ]
  },
  {
   "cell_type": "code",
   "execution_count": null,
   "metadata": {
    "id": "Q7lZfP9An5w0"
   },
   "outputs": [],
   "source": [
    "#Configurar o Ambiente de Trabalho\n",
    "pip install pandas numpy matplotlib seaborn"
   ]
  },
  {
   "cell_type": "code",
   "execution_count": null,
   "metadata": {
    "id": "g2vgvaQMee7n"
   },
   "outputs": [],
   "source": [
    "#Importação das bibliotecas e apelidar\n",
    "import pandas as pd\n",
    "import numpy as np\n",
    "import matplotlib.pyplot as plt\n",
    "import seaborn as sns\n"
   ]
  },
  {
   "cell_type": "code",
   "execution_count": null,
   "metadata": {
    "id": "x7DRySgmehPs"
   },
   "outputs": [],
   "source": [
    "#Carregar base de dados\n",
    "df = pd.read_csv('nome_do_arquivo.csv')  # ou pd.read_excel('arquivo.xlsx')\n"
   ]
  },
  {
   "cell_type": "markdown",
   "metadata": {
    "id": "Dj18_3iSgg2Q"
   },
   "source": [
    "*1.3. Entender o Contexto do Problema*\n",
    "*Qual é o objetivo da análise? (Ex.: prever vendas, identificar clientes* *inadimplentes, etc.)*\n",
    "*Conhecer o significado das variáveis.*"
   ]
  },
  {
   "cell_type": "markdown",
   "metadata": {
    "id": "EK3sc5y1eyEZ"
   },
   "source": [
    "#2. Analises iniciais dos dados"
   ]
  },
  {
   "cell_type": "code",
   "execution_count": null,
   "metadata": {
    "id": "SyHnQUZ1n8Pr"
   },
   "outputs": [],
   "source": [
    "#Verificar as primeiras e últimas linhas\n",
    "print(df.head())\n",
    "print(df.tail())"
   ]
  },
  {
   "cell_type": "code",
   "execution_count": null,
   "metadata": {
    "id": "dz3CIA7ye6tt"
   },
   "outputs": [],
   "source": [
    "#Resumo estatístico\n",
    "#Informações gerais\n",
    "print(df.info())\n",
    "print(df.describe())  # Para estatísticas numéricas\n"
   ]
  },
  {
   "cell_type": "code",
   "execution_count": null,
   "metadata": {
    "id": "5UWwWa9ifK-h"
   },
   "outputs": [],
   "source": [
    "#Identificar Valores Nulos\n",
    "print(df.isnull().sum())\n"
   ]
  },
  {
   "cell_type": "code",
   "execution_count": null,
   "metadata": {
    "id": "GONYt-YKfXqR"
   },
   "outputs": [],
   "source": [
    "#Tipos de dados\n",
    "print(df.dtypes)\n"
   ]
  },
  {
   "cell_type": "markdown",
   "metadata": {
    "id": "wCk7Cwh2jAZQ"
   },
   "source": [
    "#3. Limpeza e Pré-Processamento"
   ]
  },
  {
   "cell_type": "code",
   "execution_count": null,
   "metadata": {
    "id": "cXW_sEyoi6o-"
   },
   "outputs": [],
   "source": [
    "#Tratar Valores Ausentes\n",
    "# Substitui valores ausentes por \"valor\"\n",
    "df['coluna'] = df['coluna'].fillna(valor)\n"
   ]
  },
  {
   "cell_type": "code",
   "execution_count": null,
   "metadata": {
    "id": "1B1z0by4jZnJ"
   },
   "outputs": [],
   "source": [
    "#Remover linhas ou colunas com muitos valores ausentes\n",
    "df.dropna(axis=0, inplace=True)  # Remove linhas\n"
   ]
  },
  {
   "cell_type": "code",
   "execution_count": null,
   "metadata": {
    "id": "sEVJf8SMmLVc"
   },
   "outputs": [],
   "source": [
    "#Tratamento de outliers com boxplot\n",
    "sns.boxplot(x=df['coluna'])\n",
    "plt.show()\n"
   ]
  },
  {
   "cell_type": "code",
   "execution_count": null,
   "metadata": {
    "id": "VzBjHi2bmjz_"
   },
   "outputs": [],
   "source": [
    "#Normalizar e Padronizar Dados\n",
    "#Normalizar variáveis (caso seja necessário):\n",
    "from sklearn.preprocessing import StandardScaler\n",
    "scaler = StandardScaler()\n",
    "df['coluna_normalizada'] = scaler.fit_transform(df[['coluna']])\n"
   ]
  },
  {
   "cell_type": "markdown",
   "metadata": {
    "id": "nIvjDkW3m5Kh"
   },
   "source": [
    "#4. Análise Exploratória Visual"
   ]
  },
  {
   "cell_type": "code",
   "execution_count": null,
   "metadata": {
    "id": "VdzqZxUem5jv"
   },
   "outputs": [],
   "source": [
    "#Distribuição das Variáveis com histograma\n",
    "df['coluna'].hist(bins=20)\n",
    "plt.show()\n"
   ]
  },
  {
   "cell_type": "code",
   "execution_count": null,
   "metadata": {
    "id": "UcdwDp4RnLQO"
   },
   "outputs": [],
   "source": [
    "#Relações Entre Variáveis com gráficos de dispersão\n",
    "sns.scatterplot(x='coluna_x', y='coluna_y', data=df)\n",
    "plt.show()\n",
    "\n"
   ]
  }
 ],
 "metadata": {
  "colab": {
   "private_outputs": true,
   "provenance": []
  },
  "kernelspec": {
   "display_name": "Python 3 (ipykernel)",
   "language": "python",
   "name": "python3"
  },
  "language_info": {
   "codemirror_mode": {
    "name": "ipython",
    "version": 3
   },
   "file_extension": ".py",
   "mimetype": "text/x-python",
   "name": "python",
   "nbconvert_exporter": "python",
   "pygments_lexer": "ipython3",
   "version": "3.10.9"
  }
 },
 "nbformat": 4,
 "nbformat_minor": 1
}
