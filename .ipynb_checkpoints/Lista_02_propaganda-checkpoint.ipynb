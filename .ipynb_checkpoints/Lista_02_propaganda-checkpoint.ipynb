{
 "cells": [
  {
   "cell_type": "markdown",
   "metadata": {
    "id": "jO-zKT0Lllld"
   },
   "source": [
    "# Exercício 1 –  A partir da base de dados propaganda (1).csvfaça um modelo de regressão múltipla para predizer as vendas:"
   ]
  },
  {
   "cell_type": "markdown",
   "metadata": {
    "id": "0CtCr8ytlr2n"
   },
   "source": [
    "1 – Análise descritiva\n",
    "\n",
    "2 – Calculo de correlação e covariância\n",
    "\n",
    "3 – Faça o modelo de regressão\n",
    "\n",
    "4 – Realize a análise de resíduos\n",
    "\n",
    "5 – Análise de multicolinearidade\n",
    "\n",
    "6 – Análise do Modelo"
   ]
  },
  {
   "cell_type": "markdown",
   "metadata": {
    "id": "pv7t_DvulwMl"
   },
   "source": [
    "# Leitura da base de dados"
   ]
  },
  {
   "cell_type": "code",
   "execution_count": null,
   "metadata": {
    "id": "vEiQihAPkMym"
   },
   "outputs": [],
   "source": [
    "from google.colab import files\n",
    "\n",
    "# Upload do arquivo manualmente\n",
    "uploaded = files.upload()\n",
    "\n",
    "# Após o upload, leia o arquivo com pandas\n",
    "import pandas as pd\n",
    "\n",
    "# Use o nome do arquivo que foi carregado\n",
    "data = pd.read_csv('propaganda (1).csv')\n",
    "\n",
    "# Primeiras linhas para verificar\n",
    "print(data.head())\n",
    "\n"
   ]
  },
  {
   "cell_type": "markdown",
   "metadata": {
    "id": "lA4fBj3imL0-"
   },
   "source": [
    "# 1 – Análise descritiva"
   ]
  },
  {
   "cell_type": "code",
   "execution_count": null,
   "metadata": {
    "id": "pcO4B9dmmKLp"
   },
   "outputs": [],
   "source": [
    "# Estatísticas descritivas\n",
    "desc_stats = data.describe()\n",
    "\n",
    "# Exibir as estatísticas descritivas\n",
    "print(\"Análise Descritiva Detalhada:\\n\")\n",
    "print(desc_stats)"
   ]
  },
  {
   "cell_type": "markdown",
   "metadata": {
    "id": "86Kw0FOVn_O_"
   },
   "source": [
    "# Descritiva\n",
    "Os resultados mostram que o maior investimento médio foi em TV (147.04), seguido por Jornal (30.55) e Rádio (23.26), com a maior variabilidade no investimento em TV. As vendas têm média de 14.02, variando de 1.6 a 27.0, com 50% das campanhas resultando em vendas abaixo de 12.9. O Jornal apresentou maior dispersão nos investimentos, enquanto o Rádio teve menor variabilidade. Esses dados indicam tendências consistentes no desempenho das campanhas e alocação de orçamento."
   ]
  },
  {
   "cell_type": "code",
   "execution_count": null,
   "metadata": {
    "id": "ls79YAIXmuci"
   },
   "outputs": [],
   "source": [
    "# Separar cada métrica para obter mais detalhes\n",
    "metrics = {\n",
    "    \"Média\": desc_stats.loc['mean'],\n",
    "    \"Desvio Padrão\": desc_stats.loc['std'],\n",
    "    \"Mínimo\": desc_stats.loc['min'],\n",
    "    \"Máximo\": desc_stats.loc['max'],\n",
    "    \"Quartil 25%\": desc_stats.loc['25%'],\n",
    "    \"Mediana (50%)\": desc_stats.loc['50%'],\n",
    "    \"Quartil 75%\": desc_stats.loc['75%']\n",
    "}\n",
    "\n",
    "for metric_name, values in metrics.items():\n",
    "    print(f\"\\n{metric_name}:\\n{values}\\n\")"
   ]
  },
  {
   "cell_type": "markdown",
   "metadata": {
    "id": "l1PSaALTnS2f"
   },
   "source": [
    "# Mais detalhes\n",
    "o maior investimento médio foi em TV (147.04), com a maior variação entre campanhas (valores entre 0.7 e 296.4, desvio padrão de 85.85). Rádio teve menor investimento médio (23.26) e foi o mais consistente, variando entre 0.0 e 49.6, com um desvio padrão de 14.85. Já o Jornal, com investimento médio de 30.55, apresentou maior dispersão relativa (0.3 a 114.0, desvio padrão de 21.78). Em relação às vendas, a média foi de 14.02, variando de 1.6 a 27.0, com metade das campanhas alcançando vendas abaixo de 12.9 (mediana). Esses dados indicam que a TV é o foco principal, mas o Rádio tem uma aplicação mais uniforme, enquanto o Jornal apresenta resultados mais incertos."
   ]
  },
  {
   "cell_type": "markdown",
   "metadata": {
    "id": "wCPFbg5OFUK_"
   },
   "source": [
    "##-----------------------------------------------------------------## // ##-----------------------------------------------------------------##"
   ]
  },
  {
   "cell_type": "markdown",
   "metadata": {
    "id": "aGU35CBYBBId"
   },
   "source": [
    "#2 – Calculo de correlação e covariância"
   ]
  },
  {
   "cell_type": "code",
   "execution_count": null,
   "metadata": {
    "id": "gxHxddRrm6y_"
   },
   "outputs": [],
   "source": [
    "import seaborn as sns\n",
    "import matplotlib.pyplot as plt\n",
    "\n",
    "# 1. Matriz de Correlação\n",
    "correlation = data.corr()\n",
    "print(\"Matriz de Correlação:\")\n",
    "print(correlation)\n",
    "\n",
    "# Visualização da Matriz de Correlação\n",
    "plt.figure(figsize=(8, 6))\n",
    "sns.heatmap(correlation, annot=True, cmap=\"coolwarm\", fmt=\".2f\")\n",
    "plt.title(\"Matriz de Correlação\")\n",
    "plt.show()\n",
    "\n",
    "# 2. Matriz de Covariância\n",
    "covariance = data.cov()\n",
    "print(\"\\nMatriz de Covariância:\")\n",
    "print(covariance)\n",
    "\n",
    "# 3. Gráfico de Dispersão (Exemplo: TV vs. Vendas)\n",
    "plt.figure(figsize=(8, 5))\n",
    "sns.scatterplot(x=data['TV'], y=data['Vendas'])\n",
    "plt.title(\"Relação entre Investimento em TV e Vendas\")\n",
    "plt.xlabel(\"Investimento em TV (milhares)\")\n",
    "plt.ylabel(\"Vendas (milhares de unidades)\")\n",
    "plt.show()\n",
    "\n",
    "# 4. Boxplot para detectar outliers\n",
    "plt.figure(figsize=(8, 5))\n",
    "sns.boxplot(data=data[['TV', 'Radio', 'Jornal']])\n",
    "plt.title(\"Boxplot para Detecção de Outliers\")\n",
    "plt.show()\n",
    "\n"
   ]
  },
  {
   "cell_type": "markdown",
   "metadata": {
    "id": "i3blSK1mscE9"
   },
   "source": [
    "# Análise de correlação e covariância dos dados\n",
    " Auxiliando na identificação de relações entre variáveis.\n",
    "Calculo matriz de correlação, que mede a força e direção das relações lineares, e a matriz de covariância, que avalia como as variáveis variam juntas.\n",
    "Além disso, o código inclui uma visualização gráfica da correlação em forma de heatmap e um gráfico de dispersão para explorar a relação entre investimento em TV e vendas.\n",
    "Um boxplot também é gerado para identificar possíveis outliers nos investimentos. Essa abordagem fornece tanto insights numéricos quanto visuais para entender os dados."
   ]
  },
  {
   "cell_type": "markdown",
   "metadata": {
    "id": "EfYww0ReCZ4c"
   },
   "source": [
    "##-----------------------------------------------------------------## // ##-----------------------------------------------------------------##"
   ]
  },
  {
   "cell_type": "markdown",
   "metadata": {
    "id": "9vWxFV2BuUiu"
   },
   "source": [
    "# 3. Modelo de Regressão"
   ]
  },
  {
   "cell_type": "code",
   "execution_count": null,
   "metadata": {
    "id": "7-LfFDWHvhlp"
   },
   "outputs": [],
   "source": [
    "from sklearn.model_selection import train_test_split\n",
    "# Importar bibliotecas necessárias\n",
    "import pandas as pd\n",
    "from sklearn.model_selection import train_test_split\n",
    "from sklearn.linear_model import LinearRegression\n",
    "from sklearn.metrics import mean_absolute_error, mean_squared_error, r2_score\n",
    "import statsmodels.api as sm"
   ]
  },
  {
   "cell_type": "code",
   "execution_count": null,
   "metadata": {
    "id": "eOBWRzdCshT_"
   },
   "outputs": [],
   "source": [
    "# Divisão dos dados\n",
    "X = data[['TV', 'Radio', 'Jornal']]  # Variáveis independentes\n",
    "y = data['Vendas']  # Variável dependente\n",
    "X_train, X_test, y_train, y_test = train_test_split(X, y, test_size=0.2, random_state=42)\n",
    "\n",
    "# Ajustar o modelo com Scikit-learn\n",
    "regressor = LinearRegression()\n",
    "regressor.fit(X_train, y_train)\n",
    "\n",
    "# Previsões no conjunto de teste\n",
    "y_pred = regressor.predict(X_test)\n",
    "\n",
    "# Avaliação do modelo\n",
    "mae = mean_absolute_error(y_test, y_pred)\n",
    "mse = mean_squared_error(y_test, y_pred)\n",
    "rmse = mse ** 0.5\n",
    "r2 = r2_score(y_test, y_pred)\n",
    "\n",
    "print(\"\\nMétricas do Modelo de Regressão:\")\n",
    "print(f\"MAE: {mae}\")\n",
    "print(f\"MSE: {mse}\")\n",
    "print(f\"RMSE: {rmse}\")\n",
    "print(f\"R²: {r2}\")\n",
    "\n",
    "# Modelo detalhado com Statsmodels\n",
    "X_train_const = sm.add_constant(X_train)\n",
    "model = sm.OLS(y_train, X_train_const).fit()\n",
    "print(model.summary())\n",
    "\n"
   ]
  },
  {
   "cell_type": "markdown",
   "metadata": {
    "id": "fUIpYjSYwuq7"
   },
   "source": [
    "#Resultado do Modelo\n",
    "1. Métricas de Avaliação do modelo apresentam erros relativamente baixos e uma explicação substancial da variabilidade das vendas.#\n",
    "\n",
    "2. Importância das Variáveis: A TV é um canal eficaz para aumentar as vendas, mas seu impacto é menor em relação ao Rádio que tem o maior impacto nas vendas, sendo uma estratégia altamente eficiente. O jornal não tem impacto significante.\n",
    "\n",
    "3. Robustez e Adequação do Modelo R² Ajustado (89.4%): Explicação do modelo, ajustando para o número de variáveis.  Este valor é próximo ao R², indicando que as variáveis do modelo são relevantes. Durbin-Watson (2.161): Este valor próximo de 2 indica que os resíduos não estão autocorrelacionados, o que é um bom indicador de adequação. Normalidade dos Resíduos (Omnibus/Jarque-Bera): Este teste rejeita a hipótese de normalidade perfeita dos resíduos, mas na prática, o impacto pode ser negligenciável, desde que os resíduos estejam próximos de zero e distribuídos aleatoriamente.\n",
    "\n",
    "4. Jornal tem resultado insignificante diferente de TV e Rádio com resultados significantes\n",
    "\n",
    "5. Insights Estratégicos - TV e Rádio como pilares da estratégia de marketing: TV: Alcança grande público, com impacto consistente. Rádio: Maior retorno por investimento, ideal para campanhas localizadas ou específicas Revisão do Jornal: Avaliar campanhas específicas para confirmar se o investimento em jornal traz algum benefício em nichos particulares.\n",
    "\n"
   ]
  },
  {
   "cell_type": "markdown",
   "metadata": {
    "id": "0DvGdXte_xSI"
   },
   "source": [
    "# Insights\n",
    " Isso me motra que o modelo é confiável e indica que o rádio deve ser priorizado por seu maior impacto nas vendas, enquanto a TV é um canal relevante para complementar a estratégia. Já o jornal apresenta baixa relevância e pode ser revisado ou despriorizado."
   ]
  },
  {
   "cell_type": "markdown",
   "metadata": {
    "id": "EfFLQZWhEt_D"
   },
   "source": [
    "##-----------------------------------------------------------------## // ##-----------------------------------------------------------------##"
   ]
  },
  {
   "cell_type": "markdown",
   "metadata": {
    "id": "z4ZZENvdEk8H"
   },
   "source": [
    "#4 – Análise de resíduos"
   ]
  },
  {
   "cell_type": "code",
   "execution_count": null,
   "metadata": {
    "id": "ircf6Qfju_u4"
   },
   "outputs": [],
   "source": [
    "# Importar as bibliotecas necessárias\n",
    "import pandas as pd\n",
    "import matplotlib.pyplot as plt\n",
    "import seaborn as sns\n",
    "from sklearn.model_selection import train_test_split\n",
    "import statsmodels.api as sm\n",
    "\n",
    "\n",
    "# Divisão dos dados\n",
    "X = data[['TV', 'Radio', 'Jornal']]  # Variáveis independentes\n",
    "y = data['Vendas']  # Variável dependente\n",
    "X_train, X_test, y_train, y_test = train_test_split(X, y, test_size=0.2, random_state=42)\n",
    "\n",
    "# Ajustar o modelo com Statsmodels\n",
    "X_train_const = sm.add_constant(X_train)\n",
    "model = sm.OLS(y_train, X_train_const).fit()\n",
    "\n",
    "# Cálculo dos resíduos\n",
    "residuals = y_train - model.predict(sm.add_constant(X_train))\n",
    "\n",
    "# Gráfico de Resíduos vs. Valores Ajustados\n",
    "plt.figure(figsize=(8, 5))\n",
    "sns.residplot(x=model.predict(sm.add_constant(X_train)), y=residuals, lowess=True, line_kws={'color': 'red'})\n",
    "plt.title(\"Gráfico de Resíduos vs. Valores Ajustados\")\n",
    "plt.xlabel(\"Valores Ajustados\")\n",
    "plt.ylabel(\"Resíduos\")\n",
    "plt.axhline(0, color='black', linestyle='--', linewidth=1)\n",
    "plt.show()\n",
    "\n",
    "# Histograma dos Resíduos\n",
    "plt.figure(figsize=(8, 5))\n",
    "sns.histplot(residuals, kde=True, bins=20, color='blue')\n",
    "plt.title(\"Distribuição dos Resíduos\")\n",
    "plt.xlabel(\"Resíduos\")\n",
    "plt.ylabel(\"Frequência\")\n",
    "plt.axvline(0, color='black', linestyle='--', linewidth=1)\n",
    "plt.show()\n"
   ]
  },
  {
   "cell_type": "markdown",
   "metadata": {
    "id": "A0maTvCnGISa"
   },
   "source": [
    "\n",
    "#Na análise de resíduos\n",
    "os resíduos foram calculados como a diferença entre os valores reais das vendas (observados) e os valores previstos pelo modelo. Isso nos permite medir os erros do modelo em capturar a variabilidade dos dados.\n",
    "\n",
    "Gráfico de Resíduos vs. Valores Ajustados: O gráfico mostrou que os resíduos estão distribuídos aleatoriamente em torno de zero, sem padrões visíveis. Isso é um bom sinal, pois confirma que a relação entre as variáveis independentes e dependente é linear e que o modelo não está cometendo erros sistemáticos. Além disso, a variância dos resíduos parece constante (homocedasticidade), o que valida outra suposição importante da regressão linear.\n",
    "\n",
    "Histograma dos Resíduos: A distribuição dos resíduos mostrou-se simétrica e centrada em zero, aproximando-se de uma distribuição normal. Essa normalidade é crucial para garantir que os coeficientes e as inferências do modelo (como intervalos de confiança e testes de significância) sejam confiáveis."
   ]
  },
  {
   "cell_type": "markdown",
   "metadata": {
    "id": "0i8Xj0t5HdRW"
   },
   "source": [
    "##-----------------------------------------------------------------## // ##-----------------------------------------------------------------##"
   ]
  },
  {
   "cell_type": "markdown",
   "metadata": {
    "id": "Hk_nHUh-U_NU"
   },
   "source": [
    "#5 – Análise de multicolinearidade"
   ]
  },
  {
   "cell_type": "code",
   "execution_count": null,
   "metadata": {
    "id": "vBiCglK9U-TQ"
   },
   "outputs": [],
   "source": [
    "import pandas as pd\n",
    "from statsmodels.stats.outliers_influence import variance_inflation_factor\n",
    "\n",
    "\n",
    "\n",
    "# Seleção das variáveis independentes\n",
    "X = data[['TV', 'Radio', 'Jornal']]\n",
    "\n",
    "# Cálculo do VIF (Variance Inflation Factor)\n",
    "vif_data = pd.DataFrame()\n",
    "vif_data[\"Feature\"] = X.columns\n",
    "vif_data[\"VIF\"] = [variance_inflation_factor(X.values, i) for i in range(X.shape[1])]\n",
    "\n",
    "# Exibir os fatores de inflação de variância\n",
    "print(vif_data)\n",
    "\n"
   ]
  },
  {
   "cell_type": "markdown",
   "metadata": {
    "id": "OeL_JYLYXJ2-"
   },
   "source": [
    "# Interpretação da Multicolinearidade\n",
    "Valores de VIF < 5 indicam que as variáveis têm baixa correlação entre si e não sofrem de multicolinearidade severa.\n",
    "Isso significa que cada variável contribui de forma independente para explicar a variabilidade da variável dependente (Vendas)."
   ]
  },
  {
   "cell_type": "markdown",
   "metadata": {
    "id": "b3wCQJwUUI3F"
   },
   "source": [
    "A análise revelou que não há multicolinearidade significativa entre as variáveis independentes do modelo, com todos os valores de VIF abaixo de 5 (TV: 2.49, Rádio: 3.29, Jornal: 3.05). Isso demonstra que as variáveis são independentes entre si e contribuem de forma individual para explicar as vendas. A matriz de correlação confirmou relações moderadas entre as variáveis, sem redundâncias significativas. Como resultado, os coeficientes do modelo são estáveis e confiáveis, permitindo interpretações claras. Dessa forma, a multicolinearidade não compromete a validade ou o desempenho do modelo."
   ]
  },
  {
   "cell_type": "markdown",
   "metadata": {
    "id": "acqD8W4RUSIC"
   },
   "source": [
    "##-----------------------------------------------------------------## // ##-----------------------------------------------------------------##"
   ]
  },
  {
   "cell_type": "markdown",
   "metadata": {
    "id": "S2hv5-sRUWnJ"
   },
   "source": [
    "#6 – Análise do Modelo"
   ]
  },
  {
   "cell_type": "markdown",
   "metadata": {
    "id": "CFPy73ggUzTE"
   },
   "source": [
    "###1. Impacto das Variáveis\n",
    "Coeficientes:\n",
    "TV (0.0447): Cada milhar investido em TV aumenta, em média, as vendas em 44.7 unidades. O p-valor (<0.001) afirma que é estatisticamente significativo.\n",
    "Rádio (0.1892): O maior impacto proporcional, com cada milhar investido gerando um aumento médio de 189.2 unidades nas vendas, altamente significativo (p-valor <0.001).\n",
    "Jornal (0.0028): Impacto marginal e estatisticamente insignificante (p-valor = 0.696), indicando que essa variável pode ser revisada ou removida do modelo."
   ]
  },
  {
   "cell_type": "markdown",
   "metadata": {
    "id": "jliwXMKNU77W"
   },
   "source": [
    "###2. Qualidade do Ajuste\n",
    "R² = 0.899:\n",
    "O modelo explica 89.9% da variabilidade das vendas, um ajuste muito bom para regressão múltipla.\n",
    "Erro Médio Absoluto (MAE):\n",
    "Com 1.46, os erros médios nas previsões são baixos em relação à escala das vendas (variando de 1.6 a 27.0).\n",
    "Raiz do Erro Quadrático Médio (RMSE):\n",
    "Com 1.78, a magnitude média dos erros está alinhada com a escala da variável dependente."
   ]
  },
  {
   "cell_type": "markdown",
   "metadata": {
    "id": "wxMJ9lylXGfo"
   },
   "source": [
    "###3. Validação dos Pressupostos\n",
    "Resíduos Aleatórios:\n",
    "A análise de resíduos mostrou que estão distribuídos aleatoriamente em torno de zero, confirmando a linearidade e ausência de padrões sistemáticos.\n",
    "Normalidade dos Resíduos:\n",
    "A distribuição dos resíduos é aproximadamente normal, validando a confiabilidade das inferências.\n",
    "Multicolinearidade:\n",
    "Com VIF < 5, as variáveis são independentes entre si, contribuindo separadamente para o modelo."
   ]
  },
  {
   "cell_type": "markdown",
   "metadata": {
    "id": "xMEmaBApYIYN"
   },
   "source": [
    "####4. Pontos de Melhoria\n",
    "Revisar o uso do Jornal:\n",
    "Dado seu impacto insignificante, o orçamento pode ser redirecionado para canais mais eficazes.\n",
    "Validação adicional:\n",
    "Testar o modelo em novos dados ou realizar validação cruzada para garantir sua robustez."
   ]
  },
  {
   "cell_type": "markdown",
   "metadata": {
    "id": "FoPtknwFZi3w"
   },
   "source": [
    "##-----------------------------------------------------------------## // ##-----------------------------------------------------------------##"
   ]
  },
  {
   "cell_type": "markdown",
   "metadata": {
    "id": "n1uYZanBZaIt"
   },
   "source": [
    "#Conclusão\n",
    "O modelo é robusto, confiável e explica bem as vendas com base nos investimentos em publicidade. Rádio e TV devem ser priorizados devido à sua significância e impacto, enquanto o Jornal pode ser despriorizado. Ele é adequado para orientar decisões estratégicas de alocação de recursos publicitários."
   ]
  },
  {
   "cell_type": "markdown",
   "metadata": {
    "id": "PAVMzY1oZe_C"
   },
   "source": [
    "##-----------------------------------------------------------------## // ##-----------------------------------------------------------------##"
   ]
  },
  {
   "cell_type": "markdown",
   "metadata": {
    "id": "yc-TvdW9ZldT"
   },
   "source": [
    "# Sugestoes"
   ]
  },
  {
   "cell_type": "markdown",
   "metadata": {
    "id": "g94kXj54ZsEq"
   },
   "source": [
    "\n",
    "Sugestões para o Time de Negócio\n",
    "Com base na análise do modelo de regressão múltipla, aqui estão as recomendações práticas para otimizar a alocação de recursos publicitários:\n",
    "\n",
    "1. Priorizar Investimentos em Rádio entao deve ser priorizado, estratégias como campanhas locais ou segmentadas podem maximizar ainda mais o impacto do rádio.\n",
    "2. Manter o Investimento em TV é canal relevante e significativo, contribuindo para um aumento consistente nas vendas (coeficiente = 0.0447). É ideal alcançar grandes audiências e reforçar a presença da marca.\n",
    "3. O jornal mostrou impacto insignificante (coeficiente = 0.0028, p-valor = 0.696), indicando que o retorno desse canal é baixo.\n",
    "O orçamento alocado no jornal pode ser direcionado para TV e rádio.\n",
    "4. Realizar Testes A/B Antes de mudar o orçamento, o time pode testar campanhas menores, aumentando o investimento em rádio e TV. Isso ajuda a confirmar se esses canais realmente trazem mais vendas. Acompanhem os resultados e ajustem a estratégia conforme necessário.\n",
    "5. Ampliar a Análise com mais Dados\n",
    "Incorporar dados mais recentes ou segmentados (por região, público-alvo, tipo de produto) pode refinar ainda mais as estratégias.\n",
    "Validar o modelo com novos dados para garantir a consistência dos resultados.\n",
    "6. Monitoramento\n",
    "Comunicação e Mensagens os investimentos em rádio e TV devem ser acompanhados por mensagens claras e adaptadas ao público-alvo.\n",
    "Ajustar a frequência das campanhas para maximizar a exposição, sem ultrapassar o limite de saturação.\n",
    "\n"
   ]
  },
  {
   "cell_type": "markdown",
   "metadata": {
    "id": "cLQMC7M0iioM"
   },
   "source": [
    "##-----------------------------------------------------------------## // ##-----------------------------------------------------------------##"
   ]
  },
  {
   "cell_type": "markdown",
   "metadata": {
    "id": "J9jpuXo-iHF6"
   },
   "source": [
    "# Considerações"
   ]
  },
  {
   "cell_type": "markdown",
   "metadata": {
    "id": "75iBdidaicyK"
   },
   "source": [
    "O time de negócios deve priorizar o rádio e a TV como os principais canais de investimento, devido ao seu impacto significativo nas vendas. O uso de jornal deve ser revisado, redirecionando os recursos para opções mais eficazes. Além disso, é essencial implementar testes e validações adicionais para assegurar um retorno maximizado sobre o investimento publicitário. Essa estratégia otimizará os resultados, ampliará as vendas e garantirá maior eficiência no uso do orçamento"
   ]
  }
 ],
 "metadata": {
  "colab": {
   "private_outputs": true,
   "provenance": []
  },
  "kernelspec": {
   "display_name": "Python 3 (ipykernel)",
   "language": "python",
   "name": "python3"
  },
  "language_info": {
   "codemirror_mode": {
    "name": "ipython",
    "version": 3
   },
   "file_extension": ".py",
   "mimetype": "text/x-python",
   "name": "python",
   "nbconvert_exporter": "python",
   "pygments_lexer": "ipython3",
   "version": "3.10.9"
  }
 },
 "nbformat": 4,
 "nbformat_minor": 1
}
